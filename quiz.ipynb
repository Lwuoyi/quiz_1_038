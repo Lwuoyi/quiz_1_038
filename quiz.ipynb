{
 "cells": [
  {
   "cell_type": "code",
   "execution_count": 5,
   "metadata": {},
   "outputs": [
    {
     "name": "stdout",
     "output_type": "stream",
     "text": [
      "Min element: 12\n",
      "Max element: 100\n",
      "Transposed matrix:\n",
      "[34, 72, 61]\n",
      "[100, 24, 20]\n",
      "[12, 55, 19]\n",
      "Perkalian matrix:\n",
      "[11300, 5508, 4302]\n",
      "[5508, 8785, 5917]\n",
      "[4302, 5917, 4482]\n",
      "Penjumlahan matrix:\n",
      "[68, 172, 73]\n",
      "[172, 48, 75]\n",
      "[73, 75, 38]\n"
     ]
    }
   ],
   "source": [
    "class MatrixCalculator:\n",
    "    def __init__(self, matrix):\n",
    "        self.matrix = matrix\n",
    "\n",
    "    def find_min_max(self):\n",
    "        flattened_matrix = [element for row in self.matrix for element in row]\n",
    "        min_element = min(flattened_matrix)\n",
    "        max_element = max(flattened_matrix)\n",
    "        return min_element, max_element\n",
    "\n",
    "    def transpose(self):\n",
    "        transposed_matrix = [[self.matrix[j][i] for j in range(len(self.matrix))] for i in range(len(self.matrix[0]))]\n",
    "        return transposed_matrix\n",
    "\n",
    "    def multiply(self, other_matrix):\n",
    "        if len(self.matrix[0]) != len(other_matrix):\n",
    "            raise ValueError(\"The number of columns in the first matrix must be equal to the number of rows in the second matrix.\")\n",
    "        result_matrix = [[sum(a * b for a, b in zip(row, col)) for col in zip(*other_matrix)] for row in self.matrix]\n",
    "        return result_matrix\n",
    "\n",
    "    def add(self, other_matrix):\n",
    "        if len(self.matrix) != len(other_matrix) or len(self.matrix[0]) != len(other_matrix[0]):\n",
    "            raise ValueError(\"Both matrices must have the same dimensions.\")\n",
    "        result_matrix = [[self.matrix[i][j] + other_matrix[i][j] for j in range(len(self.matrix[0]))] for i in range(len(self.matrix))]\n",
    "        return result_matrix\n",
    "\n",
    "if __name__ == \"__main__\":\n",
    "    def print_matrix(matrix):\n",
    "        for row in matrix:\n",
    "            print(row)\n",
    "\n",
    "    # Contoh penggunaan program\n",
    "    matrix_a = [\n",
    "        [34, 100, 12],\n",
    "        [72, 24, 55],\n",
    "        [61, 20, 19]\n",
    "    ]\n",
    "\n",
    "    calculator = MatrixCalculator(matrix_a)\n",
    "\n",
    "    # Menghitung elemen terbesar dan terkecil\n",
    "    min_element, max_element = calculator.find_min_max()\n",
    "    print(\"Min element:\", min_element)\n",
    "    print(\"Max element:\", max_element)\n",
    "    \n",
    "    # Transpose matrix\n",
    "    transposed_matrix = calculator.transpose()\n",
    "    print(\"Transposed matrix:\")\n",
    "    print_matrix(transposed_matrix)\n",
    "\n",
    "    # Menghitung perkalian matrix dengan transpose matrix\n",
    "    multiplied_matrix = calculator.multiply(transposed_matrix)\n",
    "    print(\"Perkalian matrix:\")\n",
    "    print_matrix(multiplied_matrix)\n",
    "\n",
    "    # Menghitung penjumlahan matrix dengan transpose matrix\n",
    "    added_matrix = calculator.add(transposed_matrix)\n",
    "    print(\"Penjumlahan matrix:\")\n",
    "    print_matrix(added_matrix)"
   ]
  }
 ],
 "metadata": {
  "kernelspec": {
   "display_name": "Python 3",
   "language": "python",
   "name": "python3"
  },
  "language_info": {
   "codemirror_mode": {
    "name": "ipython",
    "version": 3
   },
   "file_extension": ".py",
   "mimetype": "text/x-python",
   "name": "python",
   "nbconvert_exporter": "python",
   "pygments_lexer": "ipython3",
   "version": "3.12.0"
  }
 },
 "nbformat": 4,
 "nbformat_minor": 2
}
